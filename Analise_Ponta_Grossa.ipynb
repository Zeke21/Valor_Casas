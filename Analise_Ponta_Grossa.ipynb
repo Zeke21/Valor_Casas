{
  "nbformat": 4,
  "nbformat_minor": 0,
  "metadata": {
    "colab": {
      "provenance": [],
      "mount_file_id": "1H2Mid-0y94xAZHIxS14GeQY4CJ1P5_HD",
      "authorship_tag": "ABX9TyOGu4jQNj1zkVVPPHBJ2E28",
      "include_colab_link": true
    },
    "kernelspec": {
      "name": "python3",
      "display_name": "Python 3"
    },
    "language_info": {
      "name": "python"
    }
  },
  "cells": [
    {
      "cell_type": "markdown",
      "metadata": {
        "id": "view-in-github",
        "colab_type": "text"
      },
      "source": [
        "<a href=\"https://colab.research.google.com/github/Zeke21/Valor_Casas/blob/main/Analise_Ponta_Grossa.ipynb\" target=\"_parent\"><img src=\"https://colab.research.google.com/assets/colab-badge.svg\" alt=\"Open In Colab\"/></a>"
      ]
    },
    {
      "cell_type": "code",
      "execution_count": null,
      "metadata": {
        "id": "UfjqIRPN2umo"
      },
      "outputs": [],
      "source": []
    }
  ]
}